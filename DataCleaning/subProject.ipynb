{
 "cells": [
  {
   "attachments": {},
   "cell_type": "markdown",
   "metadata": {},
   "source": [
    "# Data Cleaning Sub-project\n",
    " Created by Christopher Maher\n",
    "### Goal: Create a API cleaning pipeline\n",
    "\n",
    "  This project is to create an API cleaning ETL pipeline that allows a given API to be cleaned based on the following criteria:\n",
    "\n",
    "  * Handling Missing Data\n",
    "  * Dealing with Duplicate Data\n",
    "  * Standardization of Data\n",
    "  * Handling Outliers of Data\n",
    "  * Reshaping Data \n",
    "  * Filtering and Selecting Data\n",
    "\n",
    "This data pipeline will also attempt to fit best practices in ETL pipeline building which means the following:\n",
    "\n",
    "- Error handling\n",
    "- Logging\n",
    "- Testing\n",
    "\n",
    "The pipeline will be built with an attempt to be able to scale however due to the nature of the project will be unneeded and will be an attempt at best practice.\n",
    "\n",
    "#### Project Details\n",
    "\n",
    "  Use the Spotify API to identify trends in users 'saved songs', more commonly known as favorite songs, to identify their preferred listening type"
   ]
  },
  {
   "attachments": {},
   "cell_type": "markdown",
   "metadata": {},
   "source": [
    "## Data Imports and variables\n",
    "All imports are listed below as well as versions used.\n",
    "\n",
    "Versions developed on:\n",
    "\n",
    " `pandas: 2.0.0`\n",
    "\n",
    " `logging: 0.5.1.2`\n",
    " \n",
    " `requests: 2.28.2`\n",
    " \n",
    " `json: 2.0.9`\n",
    "\n",
    " `numpy: 1.24.2`\n",
    "\n",
    "Check to current versions in case of errors"
   ]
  },
  {
   "cell_type": "code",
   "execution_count": 140,
   "metadata": {},
   "outputs": [],
   "source": [
    "import logging \n",
    "import time\n",
    "import json\n",
    "import pandas as pd\n",
    "import numpy as np\n",
    "import requests\n",
    "import spotipy\n",
    "import scipy.stats as stats\n",
    "from spotipy.oauth2 import SpotifyOAuth\n",
    "\n",
    "## .gitignore file containing secure information not to be published, stores as clientID and clientSecret both as strings\n",
    "import keys\n",
    "\n",
    "# Debug\n",
    "DEBUG = False\n",
    "\n",
    "# Proof of learning\n",
    "\n",
    "PL = False\n",
    "\n",
    "#Check versions\n",
    "if DEBUG:\n",
    "    print(pd.__version__)\n",
    "    print(logging.__version__)\n",
    "    print(requests.__version__)\n",
    "    print(json.__version__)\n",
    "    print(np.__version__)"
   ]
  },
  {
   "attachments": {},
   "cell_type": "markdown",
   "metadata": {},
   "source": [
    "## Data Retrieval\n",
    "Retrives the data from the following API: Spotify API\n",
    "\n",
    "- This API is a large data collection provided by Spotify that allows multiple data features to be collected. This can range from how music 'feels' based on internal classifications on Spotify to other similar information provided by the API\n",
    "- This API **requires** creditentials so it's important to add your own credientials into it in the variables listed above\n",
    "- Alongside that currently \n",
    "\n",
    "Puts the data into pandas Dataframes for future processing"
   ]
  },
  {
   "cell_type": "code",
   "execution_count": 103,
   "metadata": {},
   "outputs": [],
   "source": [
    "#Connect to Spotify API as a user\n",
    "try: \n",
    "    sp = spotipy.Spotify(auth_manager=SpotifyOAuth(client_id=keys.clientID,client_secret=keys.clientSecret,redirect_uri='http://localhost:8080'))\n",
    "    logging.info(\"Established API connection\")\n",
    "\n",
    "except :\n",
    "    print(\"Failed to connect to Spotify\")\n",
    "    logging.exception(\"Failed to connect to Spotify API\")\n",
    "    SystemExit\n",
    "\n",
    "\n",
    "results = sp.current_user_saved_tracks(limit=50)\n",
    "\n",
    "#Fun check for if I'm getting results here\n",
    "if DEBUG:\n",
    "    for idx, item in enumerate(results['items']):\n",
    "        track = item['track']\n",
    "        print(idx, track['artists'][0]['name'], \" – \", track['name'])\n",
    "\n",
    "#put the data in dataframe!\n",
    "data = pd.DataFrame(results['items'])\n",
    "logging.info(\"Data has been entered into DataFrame\")\n"
   ]
  },
  {
   "attachments": {},
   "cell_type": "markdown",
   "metadata": {},
   "source": [
    "## Data Cleaning\n",
    "  - Will test the DataFrame for N/A values or empty values and in this situation remove them\n",
    "  - Check and remove duplicate data\n",
    "  - Filter and Shape our data\n",
    "  - Included section for standardization of data but not applicable in current data set"
   ]
  },
  {
   "cell_type": "code",
   "execution_count": 138,
   "metadata": {},
   "outputs": [
    {
     "name": "stdout",
     "output_type": "stream",
     "text": [
      "dict_values([{'album_group': 'single', 'album_type': 'single', 'artists': [{'external_urls': {'spotify': 'https://open.spotify.com/artist/0gKdP7vj37EabSA4PZuVrn'}, 'href': 'https://api.spotify.com/v1/artists/0gKdP7vj37EabSA4PZuVrn', 'id': '0gKdP7vj37EabSA4PZuVrn', 'name': 'Cloke', 'type': 'artist', 'uri': 'spotify:artist:0gKdP7vj37EabSA4PZuVrn'}], 'available_markets': [], 'external_urls': {'spotify': 'https://open.spotify.com/album/3qI7YPn8H0ukCpOzlJS3jh'}, 'href': 'https://api.spotify.com/v1/albums/3qI7YPn8H0ukCpOzlJS3jh', 'id': '3qI7YPn8H0ukCpOzlJS3jh', 'images': [{'height': 640, 'url': 'https://i.scdn.co/image/ab67616d0000b273035ec317112a824562c306b0', 'width': 640}, {'height': 300, 'url': 'https://i.scdn.co/image/ab67616d00001e02035ec317112a824562c306b0', 'width': 300}, {'height': 64, 'url': 'https://i.scdn.co/image/ab67616d00004851035ec317112a824562c306b0', 'width': 64}], 'is_playable': True, 'name': 'So Innocent', 'release_date': '2023-02-22', 'release_date_precision': 'day', 'total_tracks': 1, 'type': 'album', 'uri': 'spotify:album:3qI7YPn8H0ukCpOzlJS3jh'}, [{'external_urls': {'spotify': 'https://open.spotify.com/artist/0gKdP7vj37EabSA4PZuVrn'}, 'href': 'https://api.spotify.com/v1/artists/0gKdP7vj37EabSA4PZuVrn', 'id': '0gKdP7vj37EabSA4PZuVrn', 'name': 'Cloke', 'type': 'artist', 'uri': 'spotify:artist:0gKdP7vj37EabSA4PZuVrn'}], [], 1, 76473, False, {'isrc': 'QZTB82262350'}, {'spotify': 'https://open.spotify.com/track/7rCt53cNka72iy7JeQ3UTb'}, 'https://api.spotify.com/v1/tracks/7rCt53cNka72iy7JeQ3UTb', '7rCt53cNka72iy7JeQ3UTb', False, 'So Innocent', 33, None, 1, 'track', 'spotify:track:7rCt53cNka72iy7JeQ3UTb'])\n"
     ]
    }
   ],
   "source": [
    "#Checks dataframe for any null values\n",
    "if(data.isnull().values.any()):\n",
    "    missing_Values = data.isnull().sum().sum() + data['track'].isnull().sum()\n",
    "    logging.warning(missing_Values,\"missing values were found\")\n",
    "    # if the data is a subest of either of the track missing or the input time\n",
    "    if data.isnull().sum().sum() != 0:\n",
    "        count = 0\n",
    "        for item in enumerate(data):\n",
    "            if item[0] or item[1] != 0:\n",
    "                data.drop([count])\n",
    "            count+=1\n",
    "\n",
    "#Remove outliers in the dataset\n",
    "if PL:\n",
    "    #NDArray of z scores of my data\n",
    "    z = np.abs(stats.zscore(data))\n",
    "\n",
    "    #only keeps the rows within the aboslute value of 3 (aka within 3 standard deviations)\n",
    "\n",
    "    data = data[(z>3).all(axis=1)]\n",
    "\n",
    "\n",
    "#Now we'll find the last duplicated values and drop them\n",
    "data.drop_duplicates()\n",
    "\n",
    "\n",
    "\n",
    "\n",
    "missing_Values = data['track'][0]\n",
    "print(missing_Values)\n"
   ]
  },
  {
   "cell_type": "code",
   "execution_count": null,
   "metadata": {},
   "outputs": [],
   "source": [
    "tid = 'spotify:track:4TTV7EcfroSLWzXRY6gLv6'\n",
    "start = time.time()\n",
    "analysis = sp.audio_analysis(tid)\n",
    "delta = time.time() - start\n",
    "print(json.dumps(analysis, indent=4))\n",
    "print(\"analysis retrieved in %.2f seconds\" % (delta,))"
   ]
  }
 ],
 "metadata": {
  "kernelspec": {
   "display_name": "Python 3",
   "language": "python",
   "name": "python3"
  },
  "language_info": {
   "codemirror_mode": {
    "name": "ipython",
    "version": 3
   },
   "file_extension": ".py",
   "mimetype": "text/x-python",
   "name": "python",
   "nbconvert_exporter": "python",
   "pygments_lexer": "ipython3",
   "version": "3.10.11"
  },
  "orig_nbformat": 4
 },
 "nbformat": 4,
 "nbformat_minor": 2
}
