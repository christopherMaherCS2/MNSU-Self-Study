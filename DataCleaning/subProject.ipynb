{
 "cells": [
  {
   "attachments": {},
   "cell_type": "markdown",
   "metadata": {},
   "source": [
    "# Data Cleaning Sub-project\n",
    "\n",
    "### Goal: Create a API cleaning pipeline\n",
    "\n",
    "  This project is to create an API cleaning ETL pipeline that allows a given API to be cleaned based on the following criteria:\n",
    "\n",
    "  * Handling Missing Data\n",
    "  * Dealing with Duplicate Data\n",
    "  * Standardization of Data\n",
    "  * Handling Outliers of Data\n",
    "  * Reshaping Data \n",
    "  * Filtering and Selecting Data\n",
    "\n",
    "This data pipeline will also attempt to fit best practices in ETL pipeline building which means the following:\n",
    "\n",
    "- Error handling\n",
    "- Logging\n",
    "- Testing\n",
    "\n",
    "The pipeline will be built with an attempt to be able to scale however due to the nature of the project will be unneeded and will be an attempt at best practice"
   ]
  },
  {
   "attachments": {},
   "cell_type": "markdown",
   "metadata": {},
   "source": [
    "## Data Imports\n",
    "All imports are listed below as well as versions used.\n",
    "\n",
    "Current versions are:"
   ]
  },
  {
   "cell_type": "code",
   "execution_count": null,
   "metadata": {},
   "outputs": [],
   "source": [
    "import logging \n",
    "import pandas as pd\n",
    "import requests\n",
    "import "
   ]
  }
 ],
 "metadata": {
  "kernelspec": {
   "display_name": "Python 3",
   "language": "python",
   "name": "python3"
  },
  "language_info": {
   "name": "python",
   "version": "3.10.11"
  },
  "orig_nbformat": 4
 },
 "nbformat": 4,
 "nbformat_minor": 2
}
